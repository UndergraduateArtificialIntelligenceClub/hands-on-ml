{
 "cells": [
  {
   "cell_type": "code",
   "execution_count": 27,
   "metadata": {},
   "outputs": [],
   "source": [
    "import tensorflow as tf\n",
    "from tensorflow import keras\n",
    "(x_train, y_train), (x_test, y_test) = keras.datasets.mnist.load_data()"
   ]
  },
  {
   "cell_type": "markdown",
   "metadata": {},
   "source": [
    "We begin by loading in our data. We then plot some example points."
   ]
  },
  {
   "cell_type": "code",
   "execution_count": 28,
   "metadata": {},
   "outputs": [
    {
     "data": {
      "text/plain": [
       "(60000, 28, 28)"
      ]
     },
     "execution_count": 28,
     "metadata": {},
     "output_type": "execute_result"
    }
   ],
   "source": [
    "x_train.shape"
   ]
  },
  {
   "cell_type": "code",
   "execution_count": 29,
   "metadata": {},
   "outputs": [
    {
     "data": {
      "text/plain": [
       "(10000, 28, 28)"
      ]
     },
     "execution_count": 29,
     "metadata": {},
     "output_type": "execute_result"
    }
   ],
   "source": [
    "x_test.shape"
   ]
  },
  {
   "cell_type": "code",
   "execution_count": 30,
   "metadata": {},
   "outputs": [
    {
     "name": "stdout",
     "output_type": "stream",
     "text": [
      "2\n"
     ]
    },
    {
     "data": {
      "text/plain": [
       "<matplotlib.image.AxesImage at 0x121881198>"
      ]
     },
     "execution_count": 30,
     "metadata": {},
     "output_type": "execute_result"
    },
    {
     "data": {
      "image/png": "[encoded data removed]",
      "text/plain": [
       "<Figure size 432x288 with 1 Axes>"
      ]
     },
     "metadata": {
      "needs_background": "light"
     },
     "output_type": "display_data"
    }
   ],
   "source": [
    "import matplotlib.pyplot as plt\n",
    "%matplotlib inline\n",
    "image_index=109\n",
    "print(y_train[image_index])\n",
    "plt.imshow(x_train[image_index], cmap='Greys')"
   ]
  },
  {
   "cell_type": "code",
   "execution_count": 31,
   "metadata": {},
   "outputs": [
    {
     "data": {
      "image/png": "[encoded data removed]",
      "text/plain": [
       "<Figure size 720x720 with 9 Axes>"
      ]
     },
     "metadata": {},
     "output_type": "display_data"
    }
   ],
   "source": [
    "plt.figure(figsize=(10,10))\n",
    "for i in range(9):\n",
    "    plt.subplot(3,3,i+1)\n",
    "    plt.xticks([])\n",
    "    plt.yticks([])\n",
    "    plt.grid(False)\n",
    "    plt.imshow(x_train[i], cmap='Greys')\n",
    "    plt.xlabel(y_train[i])\n",
    "plt.show()"
   ]
  },
  {
   "cell_type": "markdown",
   "metadata": {},
   "source": [
    "What's actually in each of these x_train data points? Pixels! Pixels range in value from 0 to 255, where 0 represents white and 255 represents black. "
   ]
  },
  {
   "cell_type": "markdown",
   "metadata": {},
   "source": [
    "![remote sensing](images.png)"
   ]
  },
  {
   "cell_type": "code",
   "execution_count": 64,
   "metadata": {},
   "outputs": [
    {
     "name": "stdout",
     "output_type": "stream",
     "text": [
      "252\n"
     ]
    }
   ],
   "source": [
    "print(x_train[image_index][15][15])"
   ]
  },
  {
   "cell_type": "markdown",
   "metadata": {},
   "source": [
    "We squash these values down to the range [0, 1] by dividing by 255."
   ]
  },
  {
   "cell_type": "code",
   "execution_count": 3,
   "metadata": {},
   "outputs": [],
   "source": [
    "x_train, x_test=x_train/255, x_test/255"
   ]
  },
  {
   "cell_type": "markdown",
   "metadata": {},
   "source": [
    "We are now ready to build our model! To do this, we'll build it in three steps, with only one hidden layer."
   ]
  },
  {
   "cell_type": "code",
   "execution_count": 38,
   "metadata": {},
   "outputs": [],
   "source": [
    "model = keras.Sequential([keras.layers.Flatten(input_shape=(28, 28)),\n",
    "    keras.layers.Dense(42, activation=tf.nn.relu),\n",
    "    keras.layers.Dense(15, activation=tf.nn.sigmoid),\n",
    "    keras.layers.Dense(10, activation=tf.nn.softmax)])"
   ]
  },
  {
   "cell_type": "markdown",
   "metadata": {},
   "source": [
    "![neural network](goal.png)"
   ]
  },
  {
   "cell_type": "markdown",
   "metadata": {},
   "source": [
    "Essentially, our model is performing the computation $\\bar{h}=\\sigma(W^t \\bar{x}+\\bar{b})$ in the first layer, where $W$ is a $784\\times 15$ weight matrix, and $\\bar{b}$ is a $15\\times 1$ bias vector. This accounts for a $11760+15=11775$ parameters. In the second layer, we have $\\bar{o}=\\text{softmax}(\\tilde{W} \\bar{h}+\\tilde{b})$, where $\\tilde{W}$ is a $10\\times 15$ weight matrix, and $\\tilde{b}$ is a $10\\times 1$ bias vector. This accounts for $150+10=160$ parameters. We can summarize this below."
   ]
  },
  {
   "cell_type": "code",
   "execution_count": 39,
   "metadata": {},
   "outputs": [
    {
     "name": "stdout",
     "output_type": "stream",
     "text": [
      "_________________________________________________________________\n",
      "Layer (type)                 Output Shape              Param #   \n",
      "=================================================================\n",
      "flatten_9 (Flatten)          (None, 784)               0         \n",
      "_________________________________________________________________\n",
      "dense_16 (Dense)             (None, 42)                32970     \n",
      "_________________________________________________________________\n",
      "dense_17 (Dense)             (None, 15)                645       \n",
      "_________________________________________________________________\n",
      "dense_18 (Dense)             (None, 10)                160       \n",
      "=================================================================\n",
      "Total params: 33,775\n",
      "Trainable params: 33,775\n",
      "Non-trainable params: 0\n",
      "_________________________________________________________________\n"
     ]
    }
   ],
   "source": [
    "model.summary()"
   ]
  },
  {
   "cell_type": "markdown",
   "metadata": {},
   "source": [
    "We perform one hot encoding to compare our model's results to the expected one:"
   ]
  },
  {
   "cell_type": "code",
   "execution_count": 33,
   "metadata": {},
   "outputs": [],
   "source": [
    "y_test=keras.utils.to_categorical(y_test, num_classes=10)\n",
    "y_train=keras.utils.to_categorical(y_train, num_classes=10)"
   ]
  },
  {
   "cell_type": "markdown",
   "metadata": {},
   "source": [
    "We're now ready to compile the model! To do this, we need three parameters (taken from [TensorFlow Tutorials](https://www.tensorflow.org/tutorials/keras/basic_classification)):\n",
    "* Loss function: This measures how accurate the model is during training. We want to minimize this function to \"steer\" the model in the right direction.\n",
    "* Optimizer: This is how the model is updated based on the data it sees and its loss function.\n",
    "* Metrics: Used to monitor the training and testing steps. The following example uses accuracy, the fraction of the images that are correctly classified."
   ]
  },
  {
   "cell_type": "code",
   "execution_count": 40,
   "metadata": {},
   "outputs": [],
   "source": [
    "model.compile(loss=tf.losses.log_loss,\n",
    "              optimizer=tf.train.GradientDescentOptimizer(0.2),\n",
    "              metrics=['accuracy'])"
   ]
  },
  {
   "cell_type": "markdown",
   "metadata": {},
   "source": [
    "Let's breakdown what these mean one step at a time. "
   ]
  },
  {
   "cell_type": "code",
   "execution_count": 41,
   "metadata": {},
   "outputs": [
    {
     "name": "stdout",
     "output_type": "stream",
     "text": [
      "Epoch 1/42\n",
      "60000/60000 [==============================] - 1s 24us/step - loss: 0.2397 - acc: 0.5749\n",
      "Epoch 2/42\n",
      "60000/60000 [==============================] - 1s 12us/step - loss: 0.1402 - acc: 0.8517\n",
      "Epoch 3/42\n",
      "60000/60000 [==============================] - 1s 13us/step - loss: 0.0882 - acc: 0.8908\n",
      "Epoch 4/42\n",
      "60000/60000 [==============================] - 1s 13us/step - loss: 0.0672 - acc: 0.9076\n",
      "Epoch 5/42\n",
      "60000/60000 [==============================] - 1s 12us/step - loss: 0.0571 - acc: 0.9179\n",
      "Epoch 6/42\n",
      "60000/60000 [==============================] - 1s 13us/step - loss: 0.0499 - acc: 0.9262\n",
      "Epoch 7/42\n",
      "60000/60000 [==============================] - 1s 12us/step - loss: 0.0461 - acc: 0.9292\n",
      "Epoch 8/42\n",
      "60000/60000 [==============================] - 1s 12us/step - loss: 0.0443 - acc: 0.9314\n",
      "Epoch 9/42\n",
      "60000/60000 [==============================] - 1s 15us/step - loss: 0.0416 - acc: 0.9351\n",
      "Epoch 10/42\n",
      "60000/60000 [==============================] - 1s 16us/step - loss: 0.0392 - acc: 0.9378\n",
      "Epoch 11/42\n",
      "60000/60000 [==============================] - 1s 15us/step - loss: 0.0379 - acc: 0.9389\n",
      "Epoch 12/42\n",
      "60000/60000 [==============================] - 1s 14us/step - loss: 0.0362 - acc: 0.9426\n",
      "Epoch 13/42\n",
      "60000/60000 [==============================] - 1s 12us/step - loss: 0.0350 - acc: 0.9440\n",
      "Epoch 14/42\n",
      "60000/60000 [==============================] - 1s 12us/step - loss: 0.0339 - acc: 0.9461\n",
      "Epoch 15/42\n",
      "60000/60000 [==============================] - 1s 13us/step - loss: 0.0350 - acc: 0.9438\n",
      "Epoch 16/42\n",
      "60000/60000 [==============================] - 1s 13us/step - loss: 0.0323 - acc: 0.9482\n",
      "Epoch 17/42\n",
      "60000/60000 [==============================] - 1s 13us/step - loss: 0.0323 - acc: 0.9476\n",
      "Epoch 18/42\n",
      "60000/60000 [==============================] - 1s 13us/step - loss: 0.0330 - acc: 0.9471\n",
      "Epoch 19/42\n",
      "60000/60000 [==============================] - 1s 13us/step - loss: 0.0317 - acc: 0.9480\n",
      "Epoch 20/42\n",
      "60000/60000 [==============================] - 1s 13us/step - loss: 0.0316 - acc: 0.9484\n",
      "Epoch 21/42\n",
      "60000/60000 [==============================] - 1s 15us/step - loss: 0.0304 - acc: 0.9503\n",
      "Epoch 22/42\n",
      "60000/60000 [==============================] - 1s 15us/step - loss: 0.0297 - acc: 0.9514\n",
      "Epoch 23/42\n",
      "60000/60000 [==============================] - 1s 16us/step - loss: 0.0292 - acc: 0.9525\n",
      "Epoch 24/42\n",
      "60000/60000 [==============================] - 1s 14us/step - loss: 0.0294 - acc: 0.9520\n",
      "Epoch 25/42\n",
      "60000/60000 [==============================] - 1s 13us/step - loss: 0.0293 - acc: 0.9525\n",
      "Epoch 26/42\n",
      "60000/60000 [==============================] - 1s 13us/step - loss: 0.0288 - acc: 0.9543\n",
      "Epoch 27/42\n",
      "60000/60000 [==============================] - 1s 15us/step - loss: 0.0272 - acc: 0.9563\n",
      "Epoch 28/42\n",
      "60000/60000 [==============================] - 1s 16us/step - loss: 0.0265 - acc: 0.9579\n",
      "Epoch 29/42\n",
      "60000/60000 [==============================] - 1s 14us/step - loss: 0.0271 - acc: 0.9562\n",
      "Epoch 30/42\n",
      "60000/60000 [==============================] - 1s 14us/step - loss: 0.0267 - acc: 0.9581\n",
      "Epoch 31/42\n",
      "60000/60000 [==============================] - 1s 13us/step - loss: 0.0267 - acc: 0.9576\n",
      "Epoch 32/42\n",
      "60000/60000 [==============================] - 1s 14us/step - loss: 0.0272 - acc: 0.9567\n",
      "Epoch 33/42\n",
      "60000/60000 [==============================] - 1s 16us/step - loss: 0.0259 - acc: 0.9579\n",
      "Epoch 34/42\n",
      "60000/60000 [==============================] - 1s 15us/step - loss: 0.0250 - acc: 0.9591\n",
      "Epoch 35/42\n",
      "60000/60000 [==============================] - 1s 13us/step - loss: 0.0242 - acc: 0.9607\n",
      "Epoch 36/42\n",
      "60000/60000 [==============================] - 1s 13us/step - loss: 0.0246 - acc: 0.9605\n",
      "Epoch 37/42\n",
      "60000/60000 [==============================] - 1s 13us/step - loss: 0.0260 - acc: 0.9586\n",
      "Epoch 38/42\n",
      "60000/60000 [==============================] - 1s 13us/step - loss: 0.0258 - acc: 0.9590\n",
      "Epoch 39/42\n",
      "60000/60000 [==============================] - 1s 14us/step - loss: 0.0259 - acc: 0.9570\n",
      "Epoch 40/42\n",
      "60000/60000 [==============================] - 1s 16us/step - loss: 0.0260 - acc: 0.9580\n",
      "Epoch 41/42\n",
      "60000/60000 [==============================] - 1s 15us/step - loss: 0.0252 - acc: 0.9591\n",
      "Epoch 42/42\n",
      "60000/60000 [==============================] - 1s 15us/step - loss: 0.0250 - acc: 0.9595\n"
     ]
    },
    {
     "data": {
      "text/plain": [
       "<tensorflow.python.keras.callbacks.History at 0x12212a470>"
      ]
     },
     "execution_count": 41,
     "metadata": {},
     "output_type": "execute_result"
    }
   ],
   "source": [
    "model.fit(x_train, y_train, epochs=42, batch_size=300)"
   ]
  },
  {
   "cell_type": "code",
   "execution_count": 42,
   "metadata": {},
   "outputs": [
    {
     "name": "stdout",
     "output_type": "stream",
     "text": [
      "10000/10000 [==============================] - 0s 41us/step\n",
      "Test Accuracy 0.9515\n"
     ]
    }
   ],
   "source": [
    "test_loss, test_accuracy=model.evaluate(x_test, y_test)\n",
    "print('Test Accuracy', test_accuracy)"
   ]
  },
  {
   "cell_type": "code",
   "execution_count": 192,
   "metadata": {},
   "outputs": [],
   "source": []
  },
  {
   "cell_type": "code",
   "execution_count": 43,
   "metadata": {},
   "outputs": [],
   "source": [
    "predictions=model.predict(x_test)"
   ]
  },
  {
   "cell_type": "code",
   "execution_count": 44,
   "metadata": {},
   "outputs": [
    {
     "data": {
      "text/plain": [
       "array([4.1903887e-04, 4.6286135e-05, 1.3694421e-03, 1.8491673e-04,\n",
       "       2.5035249e-04, 2.0312375e-05, 2.3137871e-05, 9.9619353e-01,\n",
       "       1.7122124e-04, 1.3217767e-03], dtype=float32)"
      ]
     },
     "execution_count": 44,
     "metadata": {},
     "output_type": "execute_result"
    }
   ],
   "source": [
    "predictions[0]"
   ]
  },
  {
   "cell_type": "code",
   "execution_count": 45,
   "metadata": {},
   "outputs": [
    {
     "data": {
      "text/plain": [
       "<matplotlib.image.AxesImage at 0x1228c52b0>"
      ]
     },
     "execution_count": 45,
     "metadata": {},
     "output_type": "execute_result"
    },
    {
     "data": {
      "image/png": "[encoded data removed]",
      "text/plain": [
       "<Figure size 432x288 with 1 Axes>"
      ]
     },
     "metadata": {
      "needs_background": "light"
     },
     "output_type": "display_data"
    }
   ],
   "source": [
    "plt.imshow(x_test[0], cmap='Greys')"
   ]
  },
  {
   "cell_type": "code",
   "execution_count": 46,
   "metadata": {},
   "outputs": [],
   "source": [
    "import numpy as np"
   ]
  },
  {
   "cell_type": "code",
   "execution_count": 47,
   "metadata": {},
   "outputs": [
    {
     "data": {
      "text/plain": [
       "7"
      ]
     },
     "execution_count": 47,
     "metadata": {},
     "output_type": "execute_result"
    }
   ],
   "source": [
    "np.argmax(predictions[0])"
   ]
  },
  {
   "cell_type": "code",
   "execution_count": 99,
   "metadata": {},
   "outputs": [],
   "source": [
    "def right_or_wrong(i, predictions, true_labels):\n",
    "    '''Returns whether a prediction is right or wrong'''\n",
    "    prediction=np.argmax(predictions[i])\n",
    "    true_label=np.argmax(true_labels[i])\n",
    "    return true_label==prediction"
   ]
  },
  {
   "cell_type": "code",
   "execution_count": 96,
   "metadata": {},
   "outputs": [],
   "source": [
    "def plot_image(i, predictions, true_labels, img):\n",
    "    prediction, true_label, img=predictions[i], true_labels[i], img[i]\n",
    "    plt.grid(False)\n",
    "    plt.xticks([])\n",
    "    plt.yticks([])\n",
    "    \n",
    "    plt.imshow(img, cmap='Greys')\n",
    "    \n",
    "    predicted_label=np.argmax(prediction)\n",
    "    true_label=np.argmax(true_label)\n",
    "    \n",
    "    if predicted_label==true_label:\n",
    "        color='blue'\n",
    "    else:\n",
    "        color='red'\n",
    "        \n",
    "    plt.xlabel(\"{} {:2.0f}% ({})\".format(predicted_label, 100*np.max(prediction), true_label, color=color))\n",
    "        "
   ]
  },
  {
   "cell_type": "code",
   "execution_count": 100,
   "metadata": {},
   "outputs": [
    {
     "data": {
      "image/png": "[encoded data removed]",
      "text/plain": [
       "<Figure size 432x288 with 1 Axes>"
      ]
     },
     "metadata": {},
     "output_type": "display_data"
    }
   ],
   "source": [
    "for i in range(100):\n",
    "    if not right_or_wrong(i, predictions, y_test):\n",
    "        plot_image(i, predictions, y_test, x_test)\n",
    "        break\n",
    "        "
   ]
  },
  {
   "cell_type": "code",
   "execution_count": 105,
   "metadata": {},
   "outputs": [
    {
     "name": "stdout",
     "output_type": "stream",
     "text": [
      "[[4.1903887e-04 4.6286135e-05 1.3694421e-03 1.8491673e-04 2.5035249e-04\n",
      "  2.0312375e-05 2.3137871e-05 9.9619353e-01 1.7122124e-04 1.3217767e-03]]\n"
     ]
    }
   ],
   "source": [
    "img=x_test[0]\n",
    "img = (np.expand_dims(img,0))\n",
    "predictions_single = model.predict(img)\n",
    "print(predictions_single)"
   ]
  },
  {
   "cell_type": "code",
   "execution_count": null,
   "metadata": {},
   "outputs": [],
   "source": []
  }
 ],
 "metadata": {
  "kernelspec": {
   "display_name": "Python 3",
   "language": "python",
   "name": "python3"
  },
  "language_info": {
   "codemirror_mode": {
    "name": "ipython",
    "version": 3
   },
   "file_extension": ".py",
   "mimetype": "text/x-python",
   "name": "python",
   "nbconvert_exporter": "python",
   "pygments_lexer": "ipython3",
   "version": "3.6.7"
  }
 },
 "nbformat": 4,
 "nbformat_minor": 2
}
