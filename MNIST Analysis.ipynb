{
 "cells": [
  {
   "cell_type": "code",
   "execution_count": 50,
   "metadata": {},
   "outputs": [],
   "source": [
    "import tensorflow as tf\n",
    "from tensorflow import keras\n",
    "(x_train, y_train), (x_test, y_test) = keras.datasets.mnist.load_data()"
   ]
  },
  {
   "cell_type": "markdown",
   "metadata": {},
   "source": [
    "We begin by loading in our data. We then plot some example points."
   ]
  },
  {
   "cell_type": "code",
   "execution_count": 51,
   "metadata": {},
   "outputs": [
    {
     "name": "stdout",
     "output_type": "stream",
     "text": [
      "9\n"
     ]
    },
    {
     "data": {
      "text/plain": [
       "<matplotlib.image.AxesImage at 0x1233f62b0>"
      ]
     },
     "execution_count": 51,
     "metadata": {},
     "output_type": "execute_result"
    },
    {
     "data": {
      "image/png": "[encoded data removed]",
      "text/plain": [
       "<Figure size 432x288 with 1 Axes>"
      ]
     },
     "metadata": {
      "needs_background": "light"
     },
     "output_type": "display_data"
    }
   ],
   "source": [
    "import matplotlib.pyplot as plt\n",
    "%matplotlib inline\n",
    "image_index=4\n",
    "print(y_train[image_index])\n",
    "plt.imshow(x_train[image_index], cmap='Greys')"
   ]
  },
  {
   "cell_type": "code",
   "execution_count": 52,
   "metadata": {},
   "outputs": [
    {
     "data": {
      "image/png": "[encoded data removed]",
      "text/plain": [
       "<Figure size 720x720 with 9 Axes>"
      ]
     },
     "metadata": {},
     "output_type": "display_data"
    }
   ],
   "source": [
    "plt.figure(figsize=(10,10))\n",
    "for i in range(9):\n",
    "    plt.subplot(3,3,i+1)\n",
    "    plt.xticks([])\n",
    "    plt.yticks([])\n",
    "    plt.grid(False)\n",
    "    plt.imshow(x_train[i], cmap='Greys')\n",
    "    plt.xlabel(y_train[i])\n",
    "plt.show()"
   ]
  },
  {
   "cell_type": "markdown",
   "metadata": {},
   "source": [
    "What's actually in each of these x_train data points? Pixels! Pixels range in value from 0 to 255, where 0 represents white and 255 represents black. "
   ]
  },
  {
   "cell_type": "markdown",
   "metadata": {},
   "source": [
    "![remote sensing](images.png)"
   ]
  },
  {
   "cell_type": "code",
   "execution_count": 53,
   "metadata": {},
   "outputs": [
    {
     "name": "stdout",
     "output_type": "stream",
     "text": [
      "252\n"
     ]
    }
   ],
   "source": [
    "print(x_train[image_index][15][15])"
   ]
  },
  {
   "cell_type": "markdown",
   "metadata": {},
   "source": [
    "We squash these values down to the range [0, 1] by dividing by 255."
   ]
  },
  {
   "cell_type": "code",
   "execution_count": 54,
   "metadata": {},
   "outputs": [],
   "source": [
    "x_train, x_test=x_train/255, x_test/255"
   ]
  },
  {
   "cell_type": "markdown",
   "metadata": {},
   "source": [
    "We are now ready to build our model! To do this, we'll build it in three steps, with only one hidden layer."
   ]
  },
  {
   "cell_type": "code",
   "execution_count": 55,
   "metadata": {},
   "outputs": [],
   "source": [
    "model = keras.Sequential([keras.layers.Flatten(input_shape=(28, 28)),\n",
    "    keras.layers.Dense(15, activation=tf.nn.sigmoid),\n",
    "    keras.layers.Dense(10, activation=tf.nn.softmax)])"
   ]
  },
  {
   "cell_type": "markdown",
   "metadata": {},
   "source": [
    "![neural network](goal.png)"
   ]
  },
  {
   "cell_type": "markdown",
   "metadata": {},
   "source": [
    "Essentially, our model is performing the computation $h=\\sigma(W^t \\bar{x}+b)$ in the first layer, where $W$ is a $784\\times 15$ weight matrix, and $b$ is a $15\\times 1$ bias vector. This accounts for a $11760+15=11775$ parameters. In the second layer, we have $o=\\text{softmax}(\\tilde{W}^t \\bar{h}+\\tilde{b})$, where $\\tilde{W}$ is a $15\\times 10$ weight matrix, and $\\tilde{b}$ is a $10\\times 1$ bias vector. This accounts for $150+10=160$ parameters. We can summarize this below."
   ]
  },
  {
   "cell_type": "code",
   "execution_count": 56,
   "metadata": {},
   "outputs": [
    {
     "name": "stdout",
     "output_type": "stream",
     "text": [
      "_________________________________________________________________\n",
      "Layer (type)                 Output Shape              Param #   \n",
      "=================================================================\n",
      "flatten_4 (Flatten)          (None, 784)               0         \n",
      "_________________________________________________________________\n",
      "dense_8 (Dense)              (None, 15)                11775     \n",
      "_________________________________________________________________\n",
      "dense_9 (Dense)              (None, 10)                160       \n",
      "=================================================================\n",
      "Total params: 11,935\n",
      "Trainable params: 11,935\n",
      "Non-trainable params: 0\n",
      "_________________________________________________________________\n"
     ]
    }
   ],
   "source": [
    "model.summary()"
   ]
  },
  {
   "cell_type": "markdown",
   "metadata": {},
   "source": [
    "We're now ready to compile the model! To do this, we need three parameters (taken from [TensorFlow Tutorials](https://www.tensorflow.org/tutorials/keras/basic_classification)):\n",
    "* Loss function: This measures how accurate the model is during training. We want to minimize this function to \"steer\" the model in the right direction.\n",
    "* Optimizer: This is how the model is updated based on the data it sees and its loss function.\n",
    "* Metrics: Used to monitor the training and testing steps. The following example uses accuracy, the fraction of the images that are correctly classified."
   ]
  },
  {
   "cell_type": "code",
   "execution_count": 57,
   "metadata": {},
   "outputs": [],
   "source": [
    "model.compile(loss='mean_squared_error',\n",
    "              optimizer='adam',\n",
    "              metrics=['accuracy'])"
   ]
  },
  {
   "cell_type": "markdown",
   "metadata": {},
   "source": [
    "Let's breakdown what these mean one step at a time. "
   ]
  },
  {
   "cell_type": "code",
   "execution_count": 58,
   "metadata": {},
   "outputs": [],
   "source": [
    "y_test=keras.utils.to_categorical(y_test, num_classes=10)\n",
    "y_train=keras.utils.to_categorical(y_train, num_classes=10)"
   ]
  },
  {
   "cell_type": "code",
   "execution_count": 59,
   "metadata": {},
   "outputs": [
    {
     "name": "stdout",
     "output_type": "stream",
     "text": [
      "Epoch 1/24\n",
      "60000/60000 [==============================] - 2s 25us/step - loss: 0.0515 - acc: 0.7217\n",
      "Epoch 2/24\n",
      "60000/60000 [==============================] - 1s 20us/step - loss: 0.0224 - acc: 0.8882\n",
      "Epoch 3/24\n",
      "60000/60000 [==============================] - 1s 21us/step - loss: 0.0166 - acc: 0.9065\n",
      "Epoch 4/24\n",
      "60000/60000 [==============================] - 1s 20us/step - loss: 0.0142 - acc: 0.9173\n",
      "Epoch 5/24\n",
      "60000/60000 [==============================] - 1s 20us/step - loss: 0.0128 - acc: 0.9244\n",
      "Epoch 6/24\n",
      "60000/60000 [==============================] - 1s 20us/step - loss: 0.0118 - acc: 0.9286\n",
      "Epoch 7/24\n",
      "60000/60000 [==============================] - 1s 20us/step - loss: 0.0111 - acc: 0.9328\n",
      "Epoch 8/24\n",
      "60000/60000 [==============================] - 1s 19us/step - loss: 0.0105 - acc: 0.9358\n",
      "Epoch 9/24\n",
      "60000/60000 [==============================] - 1s 19us/step - loss: 0.0100 - acc: 0.9383\n",
      "Epoch 10/24\n",
      "60000/60000 [==============================] - 1s 19us/step - loss: 0.0096 - acc: 0.9412\n",
      "Epoch 11/24\n",
      "60000/60000 [==============================] - 1s 19us/step - loss: 0.0093 - acc: 0.9429\n",
      "Epoch 12/24\n",
      "60000/60000 [==============================] - 1s 19us/step - loss: 0.0090 - acc: 0.9452\n",
      "Epoch 13/24\n",
      "60000/60000 [==============================] - 1s 19us/step - loss: 0.0087 - acc: 0.9466\n",
      "Epoch 14/24\n",
      "60000/60000 [==============================] - 1s 20us/step - loss: 0.0085 - acc: 0.9484\n",
      "Epoch 15/24\n",
      "60000/60000 [==============================] - 1s 22us/step - loss: 0.0083 - acc: 0.9495\n",
      "Epoch 16/24\n",
      "60000/60000 [==============================] - 1s 21us/step - loss: 0.0081 - acc: 0.9507\n",
      "Epoch 17/24\n",
      "60000/60000 [==============================] - 1s 21us/step - loss: 0.0079 - acc: 0.9520\n",
      "Epoch 18/24\n",
      "60000/60000 [==============================] - 1s 20us/step - loss: 0.0077 - acc: 0.9536\n",
      "Epoch 19/24\n",
      "60000/60000 [==============================] - 1s 20us/step - loss: 0.0076 - acc: 0.9541\n",
      "Epoch 20/24\n",
      "60000/60000 [==============================] - 1s 21us/step - loss: 0.0074 - acc: 0.9553\n",
      "Epoch 21/24\n",
      "60000/60000 [==============================] - 1s 22us/step - loss: 0.0073 - acc: 0.9562\n",
      "Epoch 22/24\n",
      "60000/60000 [==============================] - 1s 19us/step - loss: 0.0072 - acc: 0.9563\n",
      "Epoch 23/24\n",
      "60000/60000 [==============================] - 1s 19us/step - loss: 0.0071 - acc: 0.9573\n",
      "Epoch 24/24\n",
      "60000/60000 [==============================] - 1s 21us/step - loss: 0.0069 - acc: 0.9576\n"
     ]
    },
    {
     "data": {
      "text/plain": [
       "<tensorflow.python.keras.callbacks.History at 0x125f78400>"
      ]
     },
     "execution_count": 59,
     "metadata": {},
     "output_type": "execute_result"
    }
   ],
   "source": [
    "model.fit(x_train, y_train, epochs=24, batch_size=128)"
   ]
  },
  {
   "cell_type": "code",
   "execution_count": 60,
   "metadata": {},
   "outputs": [
    {
     "name": "stdout",
     "output_type": "stream",
     "text": [
      "10000/10000 [==============================] - 0s 36us/step\n",
      "Test Accuracy 0.9455\n"
     ]
    }
   ],
   "source": [
    "test_loss, test_accuracy=model.evaluate(x_test, y_test)\n",
    "print('Test Accuracy', test_accuracy)"
   ]
  },
  {
   "cell_type": "code",
   "execution_count": 192,
   "metadata": {},
   "outputs": [],
   "source": []
  },
  {
   "cell_type": "code",
   "execution_count": 199,
   "metadata": {},
   "outputs": [],
   "source": [
    "predictions=model.predict(x_test)"
   ]
  },
  {
   "cell_type": "code",
   "execution_count": 200,
   "metadata": {},
   "outputs": [
    {
     "data": {
      "text/plain": [
       "array([6.0186209e-04, 1.8622178e-04, 4.8959680e-04, 6.2130196e-03,\n",
       "       2.9803600e-04, 4.4225037e-04, 7.1547940e-05, 9.7894579e-01,\n",
       "       7.6698416e-05, 1.2674916e-02], dtype=float32)"
      ]
     },
     "execution_count": 200,
     "metadata": {},
     "output_type": "execute_result"
    }
   ],
   "source": [
    "predictions[0]"
   ]
  },
  {
   "cell_type": "code",
   "execution_count": 201,
   "metadata": {},
   "outputs": [
    {
     "data": {
      "text/plain": [
       "<matplotlib.image.AxesImage at 0x130c054e0>"
      ]
     },
     "execution_count": 201,
     "metadata": {},
     "output_type": "execute_result"
    },
    {
     "data": {
      "image/png": "[encoded data removed]",
      "text/plain": [
       "<Figure size 432x288 with 1 Axes>"
      ]
     },
     "metadata": {
      "needs_background": "light"
     },
     "output_type": "display_data"
    }
   ],
   "source": [
    "plt.imshow(x_test[0], cmap='Greys')"
   ]
  },
  {
   "cell_type": "code",
   "execution_count": 202,
   "metadata": {},
   "outputs": [],
   "source": [
    "import numpy as np"
   ]
  },
  {
   "cell_type": "code",
   "execution_count": 203,
   "metadata": {},
   "outputs": [
    {
     "data": {
      "text/plain": [
       "7"
      ]
     },
     "execution_count": 203,
     "metadata": {},
     "output_type": "execute_result"
    }
   ],
   "source": [
    "np.argmax(predictions[0])"
   ]
  },
  {
   "cell_type": "code",
   "execution_count": 169,
   "metadata": {},
   "outputs": [],
   "source": [
    "def plot_value_array(i, predictions_array, true_label):\n",
    "  predictions_array, true_label = predictions_array[i], true_label[i]\n",
    "  plt.grid(False)\n",
    "  plt.xticks([])\n",
    "  plt.yticks([])\n",
    "  thisplot = plt.bar(range(10), predictions_array, color=\"#777777\")\n",
    "  plt.ylim([0, 1]) \n",
    "  predicted_label = np.argmax(predictions_array)\n",
    " \n",
    "  thisplot[predicted_label].set_color('red')\n",
    "  thisplot[true_label].set_color('blue')"
   ]
  },
  {
   "cell_type": "code",
   "execution_count": 173,
   "metadata": {},
   "outputs": [
    {
     "ename": "IndexError",
     "evalue": "invalid index to scalar variable.",
     "output_type": "error",
     "traceback": [
      "\u001b[0;31m---------------------------------------------------------------------------\u001b[0m",
      "\u001b[0;31mIndexError\u001b[0m                                Traceback (most recent call last)",
      "\u001b[0;32m<ipython-input-173-0042d1177436>\u001b[0m in \u001b[0;36m<module>\u001b[0;34m\u001b[0m\n\u001b[0;32m----> 1\u001b[0;31m \u001b[0mplot_value_array\u001b[0m\u001b[0;34m(\u001b[0m\u001b[0;36m0\u001b[0m\u001b[0;34m,\u001b[0m \u001b[0mpredictions\u001b[0m\u001b[0;34m,\u001b[0m \u001b[0mnp\u001b[0m\u001b[0;34m.\u001b[0m\u001b[0margmax\u001b[0m\u001b[0;34m(\u001b[0m\u001b[0my_test\u001b[0m\u001b[0;34m)\u001b[0m\u001b[0;34m)\u001b[0m\u001b[0;34m\u001b[0m\u001b[0;34m\u001b[0m\u001b[0m\n\u001b[0m",
      "\u001b[0;32m<ipython-input-169-baefdecf05d5>\u001b[0m in \u001b[0;36mplot_value_array\u001b[0;34m(i, predictions_array, true_label)\u001b[0m\n\u001b[1;32m      1\u001b[0m \u001b[0;32mdef\u001b[0m \u001b[0mplot_value_array\u001b[0m\u001b[0;34m(\u001b[0m\u001b[0mi\u001b[0m\u001b[0;34m,\u001b[0m \u001b[0mpredictions_array\u001b[0m\u001b[0;34m,\u001b[0m \u001b[0mtrue_label\u001b[0m\u001b[0;34m)\u001b[0m\u001b[0;34m:\u001b[0m\u001b[0;34m\u001b[0m\u001b[0;34m\u001b[0m\u001b[0m\n\u001b[0;32m----> 2\u001b[0;31m   \u001b[0mpredictions_array\u001b[0m\u001b[0;34m,\u001b[0m \u001b[0mtrue_label\u001b[0m \u001b[0;34m=\u001b[0m \u001b[0mpredictions_array\u001b[0m\u001b[0;34m[\u001b[0m\u001b[0mi\u001b[0m\u001b[0;34m]\u001b[0m\u001b[0;34m,\u001b[0m \u001b[0mtrue_label\u001b[0m\u001b[0;34m[\u001b[0m\u001b[0mi\u001b[0m\u001b[0;34m]\u001b[0m\u001b[0;34m\u001b[0m\u001b[0;34m\u001b[0m\u001b[0m\n\u001b[0m\u001b[1;32m      3\u001b[0m   \u001b[0mplt\u001b[0m\u001b[0;34m.\u001b[0m\u001b[0mgrid\u001b[0m\u001b[0;34m(\u001b[0m\u001b[0;32mFalse\u001b[0m\u001b[0;34m)\u001b[0m\u001b[0;34m\u001b[0m\u001b[0;34m\u001b[0m\u001b[0m\n\u001b[1;32m      4\u001b[0m   \u001b[0mplt\u001b[0m\u001b[0;34m.\u001b[0m\u001b[0mxticks\u001b[0m\u001b[0;34m(\u001b[0m\u001b[0;34m[\u001b[0m\u001b[0;34m]\u001b[0m\u001b[0;34m)\u001b[0m\u001b[0;34m\u001b[0m\u001b[0;34m\u001b[0m\u001b[0m\n\u001b[1;32m      5\u001b[0m   \u001b[0mplt\u001b[0m\u001b[0;34m.\u001b[0m\u001b[0myticks\u001b[0m\u001b[0;34m(\u001b[0m\u001b[0;34m[\u001b[0m\u001b[0;34m]\u001b[0m\u001b[0;34m)\u001b[0m\u001b[0;34m\u001b[0m\u001b[0;34m\u001b[0m\u001b[0m\n",
      "\u001b[0;31mIndexError\u001b[0m: invalid index to scalar variable."
     ]
    }
   ],
   "source": [
    "plot_value_array(0, predictions, np.argmax(y_test))"
   ]
  },
  {
   "cell_type": "code",
   "execution_count": 176,
   "metadata": {},
   "outputs": [
    {
     "data": {
      "text/plain": [
       "7"
      ]
     },
     "execution_count": 176,
     "metadata": {},
     "output_type": "execute_result"
    }
   ],
   "source": [
    "np.argmax(y_test)"
   ]
  },
  {
   "cell_type": "code",
   "execution_count": 193,
   "metadata": {},
   "outputs": [],
   "source": []
  },
  {
   "cell_type": "code",
   "execution_count": null,
   "metadata": {},
   "outputs": [],
   "source": []
  }
 ],
 "metadata": {
  "kernelspec": {
   "display_name": "Python 3",
   "language": "python",
   "name": "python3"
  },
  "language_info": {
   "codemirror_mode": {
    "name": "ipython",
    "version": 3
   },
   "file_extension": ".py",
   "mimetype": "text/x-python",
   "name": "python",
   "nbconvert_exporter": "python",
   "pygments_lexer": "ipython3",
   "version": "3.6.7"
  }
 },
 "nbformat": 4,
 "nbformat_minor": 2
}
