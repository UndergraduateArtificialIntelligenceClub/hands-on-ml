{
 "cells": [
  {
   "cell_type": "code",
   "execution_count": 1,
   "metadata": {},
   "outputs": [],
   "source": [
    "import tensorflow as tf\n",
    "from tensorflow import keras\n",
    "(x_train, y_train), (x_test, y_test) = keras.datasets.mnist.load_data()"
   ]
  },
  {
   "cell_type": "markdown",
   "metadata": {},
   "source": [
    "We begin by loading in our data. We then plot some example points."
   ]
  },
  {
   "cell_type": "code",
   "execution_count": 2,
   "metadata": {},
   "outputs": [
    {
     "data": {
      "text/plain": [
       "(60000, 28, 28)"
      ]
     },
     "execution_count": 2,
     "metadata": {},
     "output_type": "execute_result"
    }
   ],
   "source": [
    "x_train.shape"
   ]
  },
  {
   "cell_type": "code",
   "execution_count": 3,
   "metadata": {},
   "outputs": [
    {
     "data": {
      "text/plain": [
       "(10000, 28, 28)"
      ]
     },
     "execution_count": 3,
     "metadata": {},
     "output_type": "execute_result"
    }
   ],
   "source": [
    "x_test.shape"
   ]
  },
  {
   "cell_type": "code",
   "execution_count": 4,
   "metadata": {},
   "outputs": [
    {
     "name": "stdout",
     "output_type": "stream",
     "text": [
      "3\n"
     ]
    },
    {
     "data": {
      "text/plain": [
       "<matplotlib.image.AxesImage at 0x207bfb8afd0>"
      ]
     },
     "execution_count": 4,
     "metadata": {},
     "output_type": "execute_result"
    },
    {
     "data": {
      "image/png": "[encoded data removed]",
      "text/plain": [
       "<Figure size 432x288 with 1 Axes>"
      ]
     },
     "metadata": {
      "needs_background": "light"
     },
     "output_type": "display_data"
    }
   ],
   "source": [
    "import matplotlib.pyplot as plt\n",
    "%matplotlib inline\n",
    "image_index=7\n",
    "print(y_train[image_index])\n",
    "plt.imshow(x_train[image_index], cmap='Greys')"
   ]
  },
  {
   "cell_type": "code",
   "execution_count": 5,
   "metadata": {},
   "outputs": [
    {
     "data": {
      "image/png": "[encoded data removed]",
      "text/plain": [
       "<Figure size 720x720 with 9 Axes>"
      ]
     },
     "metadata": {},
     "output_type": "display_data"
    }
   ],
   "source": [
    "plt.figure(figsize=(10,10))\n",
    "for i in range(9):\n",
    "    plt.subplot(3,3,i+1)\n",
    "    plt.xticks([])\n",
    "    plt.yticks([])\n",
    "    plt.grid(False)\n",
    "    plt.imshow(x_train[i], cmap='Greys')\n",
    "    plt.xlabel(y_train[i])\n",
    "plt.show()"
   ]
  },
  {
   "cell_type": "markdown",
   "metadata": {},
   "source": [
    "What's actually in each of these x_train data points? Pixels! Pixels range in value from 0 to 255, where 0 represents white and 255 represents black. "
   ]
  },
  {
   "cell_type": "markdown",
   "metadata": {},
   "source": [
    "![remote sensing](images.png)"
   ]
  },
  {
   "cell_type": "code",
   "execution_count": 6,
   "metadata": {},
   "outputs": [
    {
     "name": "stdout",
     "output_type": "stream",
     "text": [
      "253\n"
     ]
    }
   ],
   "source": [
    "print(x_train[image_index][15][15])"
   ]
  },
  {
   "cell_type": "markdown",
   "metadata": {},
   "source": [
    "We squash these values down to the range [0, 1] by dividing by 255."
   ]
  },
  {
   "cell_type": "code",
   "execution_count": 7,
   "metadata": {},
   "outputs": [],
   "source": [
    "x_train, x_test=x_train/255, x_test/255"
   ]
  },
  {
   "cell_type": "markdown",
   "metadata": {},
   "source": [
    "We are now ready to build our model! To do this, we'll build it in three steps, with only one hidden layer."
   ]
  },
  {
   "cell_type": "code",
   "execution_count": 44,
   "metadata": {},
   "outputs": [],
   "source": [
    "model = keras.Sequential([keras.layers.Flatten(input_shape=(28, 28)),\n",
    "    keras.layers.Dense(128, activation=tf.nn.relu),\n",
    "    keras.layers.Dropout(0.2),\n",
    "    keras.layers.Dense(64, activation=tf.nn.relu),\n",
    "    keras.layers.Dense(32, activation=tf.nn.sigmoid),\n",
    "    keras.layers.Dense(16, activation=tf.nn.sigmoid),\n",
    "    keras.layers.Dense(10, activation=tf.nn.softmax)])"
   ]
  },
  {
   "cell_type": "markdown",
   "metadata": {},
   "source": [
    "![neural network](goal.png)"
   ]
  },
  {
   "cell_type": "markdown",
   "metadata": {},
   "source": [
    "Essentially, our model is performing the computation $\\bar{h}=\\sigma(W^t \\bar{x}+\\bar{b})$ in the first layer, where $W$ is a $784\\times 15$ weight matrix, and $\\bar{b}$ is a $15\\times 1$ bias vector. This accounts for a $11760+15=11775$ parameters. In the second layer, we have $\\bar{o}=\\text{softmax}(\\tilde{W} \\bar{h}+\\tilde{b})$, where $\\tilde{W}$ is a $10\\times 15$ weight matrix, and $\\tilde{b}$ is a $10\\times 1$ bias vector. This accounts for $150+10=160$ parameters. We can summarize this below."
   ]
  },
  {
   "cell_type": "code",
   "execution_count": 28,
   "metadata": {},
   "outputs": [
    {
     "name": "stdout",
     "output_type": "stream",
     "text": [
      "_________________________________________________________________\n",
      "Layer (type)                 Output Shape              Param #   \n",
      "=================================================================\n",
      "flatten_2 (Flatten)          (None, 784)               0         \n",
      "_________________________________________________________________\n",
      "dense_7 (Dense)              (None, 128)               100480    \n",
      "_________________________________________________________________\n",
      "dense_8 (Dense)              (None, 64)                8256      \n",
      "_________________________________________________________________\n",
      "dense_9 (Dense)              (None, 32)                2080      \n",
      "_________________________________________________________________\n",
      "dense_10 (Dense)             (None, 16)                528       \n",
      "_________________________________________________________________\n",
      "dense_11 (Dense)             (None, 10)                170       \n",
      "=================================================================\n",
      "Total params: 111,514\n",
      "Trainable params: 111,514\n",
      "Non-trainable params: 0\n",
      "_________________________________________________________________\n"
     ]
    }
   ],
   "source": [
    "model.summary()"
   ]
  },
  {
   "cell_type": "markdown",
   "metadata": {},
   "source": [
    "We perform one hot encoding to compare our model's results to the expected one:"
   ]
  },
  {
   "cell_type": "code",
   "execution_count": 10,
   "metadata": {},
   "outputs": [],
   "source": [
    "y_test=keras.utils.to_categorical(y_test, num_classes=10)\n",
    "y_train=keras.utils.to_categorical(y_train, num_classes=10)"
   ]
  },
  {
   "cell_type": "markdown",
   "metadata": {},
   "source": [
    "We're now ready to compile the model! To do this, we need three parameters (taken from [TensorFlow Tutorials](https://www.tensorflow.org/tutorials/keras/basic_classification)):\n",
    "* Loss function: This measures how accurate the model is during training. We want to minimize this function to \"steer\" the model in the right direction.\n",
    "* Optimizer: This is how the model is updated based on the data it sees and its loss function.\n",
    "* Metrics: Used to monitor the training and testing steps. The following example uses accuracy, the fraction of the images that are correctly classified."
   ]
  },
  {
   "cell_type": "code",
   "execution_count": 45,
   "metadata": {},
   "outputs": [],
   "source": [
    "model.compile(loss=tf.losses.log_loss,\n",
    "              optimizer='adam',\n",
    "              metrics=['accuracy'])"
   ]
  },
  {
   "cell_type": "markdown",
   "metadata": {},
   "source": [
    "Let's breakdown what these mean one step at a time. "
   ]
  },
  {
   "cell_type": "code",
   "execution_count": 48,
   "metadata": {},
   "outputs": [
    {
     "name": "stdout",
     "output_type": "stream",
     "text": [
      "Epoch 1/30\n",
      "60000/60000 [==============================] - 1s 23us/step - loss: 0.0234 - acc: 0.9748\n",
      "Epoch 2/30\n",
      "60000/60000 [==============================] - 1s 22us/step - loss: 0.0208 - acc: 0.9773\n",
      "Epoch 3/30\n",
      "60000/60000 [==============================] - 1s 22us/step - loss: 0.0188 - acc: 0.9786\n",
      "Epoch 4/30\n",
      "60000/60000 [==============================] - 1s 23us/step - loss: 0.0173 - acc: 0.9800\n",
      "Epoch 5/30\n",
      "60000/60000 [==============================] - 1s 22us/step - loss: 0.0158 - acc: 0.9808\n",
      "Epoch 6/30\n",
      "60000/60000 [==============================] - 1s 22us/step - loss: 0.0145 - acc: 0.9827\n",
      "Epoch 7/30\n",
      "60000/60000 [==============================] - 1s 22us/step - loss: 0.0137 - acc: 0.9833\n",
      "Epoch 8/30\n",
      "60000/60000 [==============================] - 2s 28us/step - loss: 0.0131 - acc: 0.9835\n",
      "Epoch 9/30\n",
      "60000/60000 [==============================] - 1s 23us/step - loss: 0.0119 - acc: 0.9853\n",
      "Epoch 10/30\n",
      "60000/60000 [==============================] - 1s 22us/step - loss: 0.0114 - acc: 0.9859\n",
      "Epoch 11/30\n",
      "60000/60000 [==============================] - 1s 24us/step - loss: 0.0109 - acc: 0.9869\n",
      "Epoch 12/30\n",
      "60000/60000 [==============================] - 1s 24us/step - loss: 0.0103 - acc: 0.9868: 0s - loss: 0.0105 - \n",
      "Epoch 13/30\n",
      "60000/60000 [==============================] - 1s 23us/step - loss: 0.0099 - acc: 0.9879\n",
      "Epoch 14/30\n",
      "60000/60000 [==============================] - 1s 25us/step - loss: 0.0093 - acc: 0.9882\n",
      "Epoch 15/30\n",
      "60000/60000 [==============================] - 1s 23us/step - loss: 0.0087 - acc: 0.9889\n",
      "Epoch 16/30\n",
      "60000/60000 [==============================] - 1s 23us/step - loss: 0.0084 - acc: 0.9889\n",
      "Epoch 17/30\n",
      "60000/60000 [==============================] - 1s 23us/step - loss: 0.0081 - acc: 0.9893\n",
      "Epoch 18/30\n",
      "60000/60000 [==============================] - 1s 23us/step - loss: 0.0080 - acc: 0.9895\n",
      "Epoch 19/30\n",
      "60000/60000 [==============================] - 1s 22us/step - loss: 0.0076 - acc: 0.9899\n",
      "Epoch 20/30\n",
      "60000/60000 [==============================] - 1s 23us/step - loss: 0.0076 - acc: 0.9900\n",
      "Epoch 21/30\n",
      "60000/60000 [==============================] - 1s 22us/step - loss: 0.0072 - acc: 0.9902\n",
      "Epoch 22/30\n",
      "60000/60000 [==============================] - 1s 24us/step - loss: 0.0067 - acc: 0.9913\n",
      "Epoch 23/30\n",
      "60000/60000 [==============================] - 1s 23us/step - loss: 0.0066 - acc: 0.9914\n",
      "Epoch 24/30\n",
      "60000/60000 [==============================] - 1s 22us/step - loss: 0.0067 - acc: 0.9911\n",
      "Epoch 25/30\n",
      "60000/60000 [==============================] - 1s 22us/step - loss: 0.0064 - acc: 0.9917\n",
      "Epoch 26/30\n",
      "60000/60000 [==============================] - 1s 22us/step - loss: 0.0058 - acc: 0.9919\n",
      "Epoch 27/30\n",
      "60000/60000 [==============================] - 1s 22us/step - loss: 0.0061 - acc: 0.9915\n",
      "Epoch 28/30\n",
      "60000/60000 [==============================] - 1s 22us/step - loss: 0.0058 - acc: 0.9919\n",
      "Epoch 29/30\n",
      "60000/60000 [==============================] - 1s 22us/step - loss: 0.0053 - acc: 0.9927\n",
      "Epoch 30/30\n",
      "60000/60000 [==============================] - 2s 26us/step - loss: 0.0053 - acc: 0.9928\n"
     ]
    },
    {
     "data": {
      "text/plain": [
       "<tensorflow.python.keras.callbacks.History at 0x207bbd0b2b0>"
      ]
     },
     "execution_count": 48,
     "metadata": {},
     "output_type": "execute_result"
    }
   ],
   "source": [
    "model.fit(x_train, y_train, epochs=30, batch_size=600)"
   ]
  },
  {
   "cell_type": "code",
   "execution_count": 49,
   "metadata": {},
   "outputs": [
    {
     "name": "stdout",
     "output_type": "stream",
     "text": [
      "10000/10000 [==============================] - 0s 30us/step\n",
      "Test Accuracy 0.9794\n"
     ]
    }
   ],
   "source": [
    "test_loss, test_accuracy=model.evaluate(x_test, y_test)\n",
    "print('Test Accuracy', test_accuracy)"
   ]
  },
  {
   "cell_type": "code",
   "execution_count": 192,
   "metadata": {},
   "outputs": [],
   "source": []
  },
  {
   "cell_type": "code",
   "execution_count": 32,
   "metadata": {},
   "outputs": [],
   "source": [
    "predictions=model.predict(x_test)"
   ]
  },
  {
   "cell_type": "code",
   "execution_count": 16,
   "metadata": {},
   "outputs": [
    {
     "data": {
      "text/plain": [
       "array([4.0803711e-06, 1.2623361e-05, 3.7676495e-04, 2.6619760e-04,\n",
       "       2.0426028e-06, 9.9811354e-05, 7.5624349e-08, 9.9869448e-01,\n",
       "       3.3272418e-06, 5.4059207e-04], dtype=float32)"
      ]
     },
     "execution_count": 16,
     "metadata": {},
     "output_type": "execute_result"
    }
   ],
   "source": [
    "predictions[0]"
   ]
  },
  {
   "cell_type": "code",
   "execution_count": 17,
   "metadata": {},
   "outputs": [
    {
     "data": {
      "text/plain": [
       "<matplotlib.image.AxesImage at 0x207bb31af98>"
      ]
     },
     "execution_count": 17,
     "metadata": {},
     "output_type": "execute_result"
    },
    {
     "data": {
      "image/png": "[encoded data removed]",
      "text/plain": [
       "<Figure size 432x288 with 1 Axes>"
      ]
     },
     "metadata": {
      "needs_background": "light"
     },
     "output_type": "display_data"
    }
   ],
   "source": [
    "plt.imshow(x_test[0], cmap='Greys')"
   ]
  },
  {
   "cell_type": "code",
   "execution_count": 18,
   "metadata": {},
   "outputs": [],
   "source": [
    "import numpy as np"
   ]
  },
  {
   "cell_type": "code",
   "execution_count": 19,
   "metadata": {},
   "outputs": [
    {
     "data": {
      "text/plain": [
       "7"
      ]
     },
     "execution_count": 19,
     "metadata": {},
     "output_type": "execute_result"
    }
   ],
   "source": [
    "np.argmax(predictions[0])"
   ]
  },
  {
   "cell_type": "code",
   "execution_count": 20,
   "metadata": {},
   "outputs": [],
   "source": [
    "def right_or_wrong(i, predictions, true_labels):\n",
    "    '''Returns whether a prediction is right or wrong'''\n",
    "    prediction=np.argmax(predictions[i])\n",
    "    true_label=np.argmax(true_labels[i])\n",
    "    return true_label==prediction"
   ]
  },
  {
   "cell_type": "code",
   "execution_count": 21,
   "metadata": {},
   "outputs": [],
   "source": [
    "def plot_image(i, predictions, true_labels, img):\n",
    "    prediction, true_label, img=predictions[i], true_labels[i], img[i]\n",
    "    plt.grid(False)\n",
    "    plt.xticks([])\n",
    "    plt.yticks([])\n",
    "    \n",
    "    plt.imshow(img, cmap='Greys')\n",
    "    \n",
    "    predicted_label=np.argmax(prediction)\n",
    "    true_label=np.argmax(true_label)\n",
    "    \n",
    "    if predicted_label==true_label:\n",
    "        color='blue'\n",
    "    else:\n",
    "        color='red'\n",
    "        \n",
    "    plt.xlabel(\"{} {:2.0f}% ({})\".format(predicted_label, 100*np.max(prediction), true_label, color=color))\n",
    "        "
   ]
  },
  {
   "cell_type": "code",
   "execution_count": 36,
   "metadata": {},
   "outputs": [
    {
     "data": {
      "image/png": "[encoded data removed]",
      "text/plain": [
       "<Figure size 432x288 with 1 Axes>"
      ]
     },
     "metadata": {},
     "output_type": "display_data"
    }
   ],
   "source": [
    "for i in range(200, 1200):\n",
    "    if not right_or_wrong(i, predictions, y_test):\n",
    "        plot_image(i, predictions, y_test, x_test)\n",
    "        break\n",
    "        "
   ]
  },
  {
   "cell_type": "code",
   "execution_count": 105,
   "metadata": {},
   "outputs": [
    {
     "name": "stdout",
     "output_type": "stream",
     "text": [
      "[[4.1903887e-04 4.6286135e-05 1.3694421e-03 1.8491673e-04 2.5035249e-04\n",
      "  2.0312375e-05 2.3137871e-05 9.9619353e-01 1.7122124e-04 1.3217767e-03]]\n"
     ]
    }
   ],
   "source": [
    "img=x_test[0]\n",
    "img = (np.expand_dims(img,0))\n",
    "predictions_single = model.predict(img)\n",
    "print(predictions_single)"
   ]
  },
  {
   "cell_type": "code",
   "execution_count": 25,
   "metadata": {},
   "outputs": [
    {
     "data": {
      "image/png": "[encoded data removed]",
      "text/plain": [
       "<Figure size 432x288 with 1 Axes>"
      ]
     },
     "metadata": {},
     "output_type": "display_data"
    }
   ],
   "source": [
    "plot_image(100, predictions, y_test, x_test)"
   ]
  },
  {
   "cell_type": "code",
   "execution_count": null,
   "metadata": {},
   "outputs": [],
   "source": []
  }
 ],
 "metadata": {
  "kernelspec": {
   "display_name": "Python 3",
   "language": "python",
   "name": "python3"
  },
  "language_info": {
   "codemirror_mode": {
    "name": "ipython",
    "version": 3
   },
   "file_extension": ".py",
   "mimetype": "text/x-python",
   "name": "python",
   "nbconvert_exporter": "python",
   "pygments_lexer": "ipython3",
   "version": "3.6.7"
  }
 },
 "nbformat": 4,
 "nbformat_minor": 2
}
